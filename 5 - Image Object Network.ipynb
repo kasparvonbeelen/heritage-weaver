{
 "cells": [
  {
   "cell_type": "markdown",
   "id": "1062ad1f",
   "metadata": {},
   "source": [
    "# Creating a Network of Images"
   ]
  },
  {
   "cell_type": "markdown",
   "id": "35be7dbb",
   "metadata": {},
   "source": [
    "## Load database"
   ]
  },
  {
   "cell_type": "code",
   "execution_count": 268,
   "id": "d0846e53",
   "metadata": {},
   "outputs": [
    {
     "name": "stdout",
     "output_type": "stream",
     "text": [
      "The autoreload extension is already loaded. To reload it, use:\n",
      "  %reload_ext autoreload\n"
     ]
    }
   ],
   "source": [
    "%load_ext autoreload\n",
    "%autoreload 2"
   ]
  },
  {
   "cell_type": "code",
   "execution_count": 269,
   "id": "de4b1901",
   "metadata": {},
   "outputs": [],
   "source": [
    "import chromadb\n",
    "from tqdm.notebook import tqdm\n",
    "from pyvis.network import Network\n",
    "from random import shuffle"
   ]
  },
  {
   "cell_type": "code",
   "execution_count": 270,
   "id": "ac917a1f",
   "metadata": {},
   "outputs": [],
   "source": [
    "client = chromadb.PersistentClient(path=\"ce_vector_db\")\n",
    "db = client.get_or_create_collection(name=\"congruence_engine\")"
   ]
  },
  {
   "cell_type": "code",
   "execution_count": 271,
   "id": "79f335e2",
   "metadata": {},
   "outputs": [
    {
     "data": {
      "text/plain": [
       "11863"
      ]
     },
     "execution_count": 271,
     "metadata": {},
     "output_type": "execute_result"
    }
   ],
   "source": [
    "db.count()"
   ]
  },
  {
   "cell_type": "code",
   "execution_count": 272,
   "id": "1bf51ddf",
   "metadata": {},
   "outputs": [],
   "source": [
    "from itertools import combinations"
   ]
  },
  {
   "cell_type": "code",
   "execution_count": 276,
   "id": "897c7719",
   "metadata": {},
   "outputs": [],
   "source": [
    "data = db.get()\n",
    "ids = data['ids']\n",
    "shuffle(ids)\n",
    "ids = ids[:1000]\n",
    "#dbid2netid = {idx: i for i, idx in enumerate(ids)}"
   ]
  },
  {
   "cell_type": "code",
   "execution_count": 277,
   "id": "ab669b95",
   "metadata": {},
   "outputs": [],
   "source": [
    "threshold = .1"
   ]
  },
  {
   "cell_type": "code",
   "execution_count": 306,
   "id": "01e06cc0",
   "metadata": {},
   "outputs": [
    {
     "data": {
      "text/plain": [
       "(1000, 323)"
      ]
     },
     "execution_count": 306,
     "metadata": {},
     "output_type": "execute_result"
    }
   ],
   "source": [
    "dbid2netid = {e: i+1 for i,e in enumerate(ids)}\n",
    "\n",
    "net = Network(height=\"750px\", \n",
    "              width=\"100%\", \n",
    "              bgcolor=\"#222222\", \n",
    "              font_color=\"white\", \n",
    "              cdn_resources='remote', \n",
    "              #filter_menu=True, \n",
    "              #select_menu=True,\n",
    "              notebook=True)\n",
    "\n",
    "for idx in ids:\n",
    "    el = db.get(ids=[idx], include=['embeddings','metadatas','documents'])\n",
    "\n",
    "    net.add_node(dbid2netid[idx], shape='image', \n",
    "                     label=el['ids'][0], \n",
    "                     image = el['metadatas'][0]['img_url'],\n",
    "                     title = el['documents'][0])\n",
    "    \n",
    "for idx in ids: \n",
    "    el = db.get(ids=[idx], include=['embeddings','metadatas','documents'])\n",
    "    nn = db.query(\n",
    "    query_embeddings = el['embeddings'],\n",
    "             n_results=100\n",
    "             )\n",
    "\n",
    "    for i,neighbour in enumerate(nn['ids'][0]):\n",
    "        if idx == neighbour: continue\n",
    "        if nn['distances'][0][i] < threshold:\n",
    "            if idx in dbid2netid and neighbour in dbid2netid:\n",
    "                net.add_edge(dbid2netid[idx], \n",
    "                             dbid2netid[neighbour], \n",
    "                             weight=nn['distances'][0][i])# label=f'{s}_{t}'\n",
    "\n",
    "len(net.nodes),len(net.edges)"
   ]
  },
  {
   "cell_type": "code",
   "execution_count": 307,
   "id": "60085ca6",
   "metadata": {},
   "outputs": [
    {
     "data": {
      "text/plain": [
       "list"
      ]
     },
     "execution_count": 307,
     "metadata": {},
     "output_type": "execute_result"
    }
   ],
   "source": [
    "type(net.nodes)"
   ]
  },
  {
   "cell_type": "code",
   "execution_count": 308,
   "id": "a950272d",
   "metadata": {},
   "outputs": [],
   "source": [
    "edge_ids = []\n",
    "for e in net.edges:\n",
    "    if e['from'] != e['to']:\n",
    "        edge_ids.extend([e['from'],e['to']])\n",
    "edge_ids = set(edge_ids)"
   ]
  },
  {
   "cell_type": "code",
   "execution_count": 309,
   "id": "29116356",
   "metadata": {},
   "outputs": [
    {
     "name": "stdout",
     "output_type": "stream",
     "text": [
      "1000\n",
      "570\n"
     ]
    }
   ],
   "source": [
    "\n",
    "print(len(net.nodes))\n",
    "for n in net.nodes:\n",
    "    if n['id'] not in edge_ids:\n",
    "        net.nodes.remove(n)\n",
    "print(len(net.nodes))"
   ]
  },
  {
   "cell_type": "code",
   "execution_count": 310,
   "id": "e3c9a03c",
   "metadata": {},
   "outputs": [
    {
     "name": "stdout",
     "output_type": "stream",
     "text": [
      "object_network.html\n"
     ]
    },
    {
     "data": {
      "text/html": [
       "\n",
       "        <iframe\n",
       "            width=\"100%\"\n",
       "            height=\"750px\"\n",
       "            src=\"object_network.html\"\n",
       "            frameborder=\"0\"\n",
       "            allowfullscreen\n",
       "            \n",
       "        ></iframe>\n",
       "        "
      ],
      "text/plain": [
       "<IPython.lib.display.IFrame at 0x140565c70>"
      ]
     },
     "execution_count": 310,
     "metadata": {},
     "output_type": "execute_result"
    }
   ],
   "source": [
    "net.show(\"object_network.html\",) # show_buttons(filter_=['physics'])"
   ]
  },
  {
   "cell_type": "markdown",
   "id": "bd7ebc0c",
   "metadata": {},
   "source": [
    "# Fin."
   ]
  },
  {
   "cell_type": "code",
   "execution_count": null,
   "id": "6b7f13f2",
   "metadata": {},
   "outputs": [],
   "source": []
  }
 ],
 "metadata": {
  "kernelspec": {
   "display_name": "ner-al",
   "language": "python",
   "name": "ner-al"
  },
  "language_info": {
   "codemirror_mode": {
    "name": "ipython",
    "version": 3
   },
   "file_extension": ".py",
   "mimetype": "text/x-python",
   "name": "python",
   "nbconvert_exporter": "python",
   "pygments_lexer": "ipython3",
   "version": "3.9.16"
  }
 },
 "nbformat": 4,
 "nbformat_minor": 5
}
