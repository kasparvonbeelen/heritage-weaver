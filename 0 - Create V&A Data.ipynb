{
 "cells": [
  {
   "cell_type": "code",
   "execution_count": 13,
   "id": "bd493170",
   "metadata": {},
   "outputs": [
    {
     "name": "stdout",
     "output_type": "stream",
     "text": [
      "The autoreload extension is already loaded. To reload it, use:\n",
      "  %reload_ext autoreload\n"
     ]
    }
   ],
   "source": [
    "%load_ext autoreload\n",
    "%autoreload 2"
   ]
  },
  {
   "cell_type": "code",
   "execution_count": 46,
   "id": "a3de7f4b",
   "metadata": {},
   "outputs": [],
   "source": [
    "from tools.weaving_tools import VACollection\n",
    "import json"
   ]
  },
  {
   "cell_type": "code",
   "execution_count": 96,
   "id": "4f35c795",
   "metadata": {},
   "outputs": [],
   "source": [
    "va = VACollection()"
   ]
  },
  {
   "cell_type": "code",
   "execution_count": 98,
   "id": "a1352180",
   "metadata": {},
   "outputs": [],
   "source": [
    "queries = json.load(open('data/keywords.json'))\n",
    "for q in queries:\n",
    "    va.fetch_records_api(q, page_size=100)"
   ]
  },
  {
   "cell_type": "code",
   "execution_count": 63,
   "id": "07287d55",
   "metadata": {},
   "outputs": [
    {
     "name": "stdout",
     "output_type": "stream",
     "text": [
      "307\n",
      "19590\n"
     ]
    },
    {
     "data": {
      "application/vnd.jupyter.widget-view+json": {
       "model_id": "6068ad6327314f6b84932b7206b5259e",
       "version_major": 2,
       "version_minor": 0
      },
      "text/plain": [
       "  0%|          | 0/19590 [00:00<?, ?it/s]"
      ]
     },
     "metadata": {},
     "output_type": "display_data"
    }
   ],
   "source": [
    "va.fetch_records()"
   ]
  },
  {
   "cell_type": "code",
   "execution_count": 99,
   "id": "4508e987",
   "metadata": {},
   "outputs": [],
   "source": [
    "va.to_csv()"
   ]
  },
  {
   "cell_type": "code",
   "execution_count": null,
   "id": "608333ea",
   "metadata": {},
   "outputs": [
    {
     "data": {
      "application/vnd.jupyter.widget-view+json": {
       "model_id": "7315cc9506f245829f48e54e6ae3ddf5",
       "version_major": 2,
       "version_minor": 0
      },
      "text/plain": [
       "0it [00:00, ?it/s]"
      ]
     },
     "metadata": {},
     "output_type": "display_data"
    }
   ],
   "source": [
    "va.fetch_images()"
   ]
  },
  {
   "cell_type": "code",
   "execution_count": null,
   "id": "ab7a443d",
   "metadata": {},
   "outputs": [],
   "source": []
  }
 ],
 "metadata": {
  "kernelspec": {
   "display_name": "ner-al",
   "language": "python",
   "name": "ner-al"
  },
  "language_info": {
   "codemirror_mode": {
    "name": "ipython",
    "version": 3
   },
   "file_extension": ".py",
   "mimetype": "text/x-python",
   "name": "python",
   "nbconvert_exporter": "python",
   "pygments_lexer": "ipython3",
   "version": "3.9.16"
  }
 },
 "nbformat": 4,
 "nbformat_minor": 5
}
